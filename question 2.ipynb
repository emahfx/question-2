{
 "cells": [
  {
   "cell_type": "code",
   "execution_count": null,
   "id": "63066759",
   "metadata": {},
   "outputs": [],
   "source": [
    "# question 2\n",
    "def speed():\n",
    "    kilo = input(\"Enter kilometer : \")\n",
    "    meter = int(kilo) / int(1000)\n",
    "    print(meter, \"in meter\")\n",
    "    tme = input(\"Enter hours for trip : \")\n",
    "    print(tme, \"hours\")\n",
    "    spd = float(meter) / float(tme)\n",
    "    print(\"the average speed used during the trip : \", spd)\n",
    "    lit= input(\"Enter liters used in trip : \")\n",
    "    stop = input(\"number of stops during trip : \")\n",
    "    liter = float(lit) / float(stop)\n",
    "    print(liter, \"per trip\")\n",
    "speed()"
   ]
  },
  {
   "cell_type": "code",
   "execution_count": null,
   "id": "38268ad5",
   "metadata": {},
   "outputs": [],
   "source": []
  }
 ],
 "metadata": {
  "kernelspec": {
   "display_name": "Python 3 (ipykernel)",
   "language": "python",
   "name": "python3"
  },
  "language_info": {
   "codemirror_mode": {
    "name": "ipython",
    "version": 3
   },
   "file_extension": ".py",
   "mimetype": "text/x-python",
   "name": "python",
   "nbconvert_exporter": "python",
   "pygments_lexer": "ipython3",
   "version": "3.9.12"
  }
 },
 "nbformat": 4,
 "nbformat_minor": 5
}
